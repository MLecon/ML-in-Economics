{
  "cells": [
    {
      "cell_type": "markdown",
      "metadata": {},
      "source": [
        "# Lecture 1: Prediction & Linear Regression\n",
        "\n",
        "Stefan Bucher\n",
        "\n",
        "<a href=\"https://colab.research.google.com/github/MLecon/ML-in-Economics/blob/main/1_linearRegression.ipynb\" target=\"_blank\">\n",
        "<img src=\"https://colab.research.google.com/assets/colab-badge.svg\" alt=\"Open in Colab\">\n",
        "</a>\n",
        "\n",
        "Prince (2023, chaps. 2, 6, 8, 9).[1]\n",
        "\n",
        "[1] Figures taken or adapted from Prince (2023). All rights belong to\n",
        "the original author and publisher. These materials are intended solely\n",
        "for educational purposes."
      ],
      "id": "dcd430a1-f0ad-4b75-afee-1446948f6c23"
    },
    {
      "cell_type": "raw",
      "metadata": {
        "raw_mimetype": "text/html"
      },
      "source": [
        "<!-- \n",
        "Prince UDL 2_1_Supervised_Learning.ipynb [processed]\n",
        "\n",
        "OxML Fundamentals: Introduction to ML (Volodymyr Kuleshov) [in processing]\n",
        "OxML Fundamentals: Optimisation (Chi Jin)\n",
        "OxML_Optimisation.ipynb \n",
        "\n",
        "https://github.com/NeuromatchAcademy/course-content-dl/tree/main/tutorials/W1D2_LinearDeepLearning\n",
        "https://github.com/NeuromatchAcademy/course-content-dl/tree/main/tutorials/W1D5_Optimization\n",
        "https://github.com/NeuromatchAcademy/course-content-dl/tree/main/tutorials/W2D1_Regularization\n",
        "\n",
        "-->"
      ],
      "id": "927e0aa7-8a9a-488f-b2aa-94eae4b11faa"
    },
    {
      "cell_type": "markdown",
      "metadata": {},
      "source": [
        "# Linear Regression\n",
        "\n",
        "## Linear Model\n",
        "\n",
        "$$ \n",
        "\\mathbf{y} = \\mathbf{X}\\mathbf{\\beta} + \\mathbf{\\varepsilon}\n",
        "$$ To minimize the mean-squared error (MSE)\n",
        "\n",
        "## Minimizing MSE Loss (2.1-2.3)"
      ],
      "id": "64b3b355-b992-4ccd-8b64-cdc87116e66b"
    },
    {
      "cell_type": "raw",
      "metadata": {
        "raw_mimetype": "text/html"
      },
      "source": [
        "<iframe height=\"100%\" width=\"100%\" src=\"https://udlbook.github.io/udlfigures/\" title=\"2.1-2.3\"></iframe>"
      ],
      "id": "e72e12d1-4559-43e1-89a2-db8ffbfed651"
    },
    {
      "cell_type": "markdown",
      "metadata": {},
      "source": [
        "## Analytical Solution\n",
        "\n",
        "Setting the gradient with respect to $\\beta$ to zero $$\n",
        "0 = \\nabla_\\beta [y^T y - 2\\beta^T X^T y + \\beta^T X^T X \\beta] = -2X^T y + 2X^T X \\beta \n",
        "$$ yields the BLUE estimator (Gauss-Markov) $$\n",
        "\\hat{\\mathbf{\\beta}} = (\\mathbf{X}^T\\mathbf{X})^{-1}\\mathbf{X}^T\\mathbf{y}\n",
        "$$\n",
        "\n",
        "## Singular Value Decomposition (SVD)\n",
        "\n",
        "## UCI Diabetes Dataset"
      ],
      "id": "561661ae-e6b2-4201-9c53-3d5c15d0afff"
    },
    {
      "cell_type": "raw",
      "metadata": {
        "raw_mimetype": "text/html"
      },
      "source": [
        "<!-- Solving (and visualizing) same problem with stochastic gradient descent (and Adam?) -->"
      ],
      "id": "96933d06-70b8-4caf-a04e-ec5813caf186"
    },
    {
      "cell_type": "code",
      "execution_count": 1,
      "metadata": {},
      "outputs": [
        {
          "output_type": "display_data",
          "metadata": {},
          "data": {
            "text/plain": [
              "Text(0, 0.5, 'Diabetes Risk')"
            ]
          }
        },
        {
          "output_type": "display_data",
          "metadata": {},
          "data": {
            "image/png": "[encoded data removed]"
          }
        }
      ],
      "source": [],
      "id": "dd0e9e31"
    },
    {
      "cell_type": "markdown",
      "metadata": {},
      "source": [
        "## Training with Gradient Descent"
      ],
      "id": "d643b588-8f21-49b7-a850-657e9eb58368"
    },
    {
      "cell_type": "raw",
      "metadata": {
        "raw_mimetype": "text/html"
      },
      "source": [
        "<!-- Solving (and visualizing) same problem with stochastic gradient descent (and Adam?) -->"
      ],
      "id": "d634a1d6-e8e5-4fe9-83ae-0121bfbed988"
    },
    {
      "cell_type": "markdown",
      "metadata": {},
      "source": [
        "## scikit-learn"
      ],
      "id": "47bb2d80-df66-46ad-b84c-4af711943770"
    },
    {
      "cell_type": "raw",
      "metadata": {
        "raw_mimetype": "text/html"
      },
      "source": [
        "<iframe height=\"100%\" width=\"100%\" src=\"https://scikit-learn.org/1.6/api/sklearn.linear_model.html\n",
        "\" title=\"Illustration\"></iframe>"
      ],
      "id": "5bcf76ac-1002-4b23-8672-c51870df735a"
    },
    {
      "cell_type": "markdown",
      "metadata": {},
      "source": [
        "## Scikit-learn"
      ],
      "id": "2f3a2dde-1ff3-48d6-8d43-fedf943b6f40"
    },
    {
      "cell_type": "code",
      "execution_count": 2,
      "metadata": {},
      "outputs": [
        {
          "output_type": "stream",
          "name": "stdout",
          "text": [
            "[ -10.0098663  -239.81564367  519.84592005  324.3846455  -792.17563855\n",
            "  476.73902101  101.04326794  177.06323767  751.27369956   67.62669218\n",
            "    0.        ] 152.13348416289597"
          ]
        }
      ],
      "source": [
        "from sklearn.linear_model import LinearRegression\n",
        "\n",
        "model = LinearRegression()\n",
        "model.fit(X, y)\n",
        "print(model.coef_, model.intercept_)"
      ],
      "id": "af976adc"
    },
    {
      "cell_type": "markdown",
      "metadata": {},
      "source": [
        "# Model Evaluation\n",
        "\n",
        "polynomial least squares, bias-variance tradeoff and overfitting,\n",
        "inductive bias, training/test set and cross-validation, double descent\n",
        "\n",
        "# Regularization: Ridge and Lasso regression\n",
        "\n",
        "## References\n",
        "\n",
        "Prince, Simon J. D. 2023. *Understanding Deep Learning*. Cambridge,\n",
        "Massachusetts: The MIT Press."
      ],
      "id": "0c2ce76a-ebb7-4041-af77-25253e96838a"
    }
  ],
  "nbformat": 4,
  "nbformat_minor": 5,
  "metadata": {
    "kernelspec": {
      "name": "python3",
      "display_name": "Python 3 (ipykernel)",
      "language": "python",
      "path": "/Users/sfb41/.pyenv/versions/MLenv/share/jupyter/kernels/python3"
    }
  }
}